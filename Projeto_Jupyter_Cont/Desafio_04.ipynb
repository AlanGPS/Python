{
 "cells": [
  {
   "cell_type": "code",
   "execution_count": 15,
   "id": "2c622c7f-1682-45e7-b5a8-06275c6f9b16",
   "metadata": {},
   "outputs": [
    {
     "name": "stdin",
     "output_type": "stream",
     "text": [
      " 8\n"
     ]
    },
    {
     "name": "stdout",
     "output_type": "stream",
     "text": [
      "0 1 1 2 3 5 8 13\n"
     ]
    }
   ],
   "source": [
    "n = int(input())\n",
    "\n",
    "fib = [     ]\n",
    "\n",
    "n = n - 1\n",
    "\n",
    "if n > 0 and n < 46:\n",
    "    for i in range(2):\n",
    "        fib.append(i)\n",
    "    for j in range(1, n):\n",
    "        fib.append(fib[j] + (fib[j-1]))\n",
    "        \n",
    "fib_str = ' '.join(map(str, fib))\n",
    "\n",
    "print(fib_str)"
   ]
  },
  {
   "cell_type": "code",
   "execution_count": 34,
   "id": "36ce43e6-c3fe-4f9b-8cda-1f5888cdc455",
   "metadata": {},
   "outputs": [
    {
     "name": "stdin",
     "output_type": "stream",
     "text": [
      " 13\n"
     ]
    },
    {
     "name": "stdout",
     "output_type": "stream",
     "text": [
      "2\n",
      "4\n",
      "6\n",
      "8\n",
      "10\n",
      "12\n"
     ]
    }
   ],
   "source": [
    "N = int(input())\n",
    "\n",
    "N = N + 1\n",
    "\n",
    "for i in range(1, N):\n",
    "    k = i % 2\n",
    "    if k == 0:\n",
    "        print(i)"
   ]
  },
  {
   "cell_type": "code",
   "execution_count": 11,
   "id": "395019fd-527e-42c3-985a-eee1be15c4f9",
   "metadata": {},
   "outputs": [
    {
     "name": "stdin",
     "output_type": "stream",
     "text": [
      " 5\n",
      " 807\n"
     ]
    }
   ],
   "source": [
    "N = int(input())\n",
    "T = input()\n",
    "persons = list(T)\n",
    "\n",
    "#lowest_pos = 0\n",
    "#for i in range(N):\n",
    "#    if i == 0:\n",
    "#        lowest = \n",
    "#        continue\n",
    "#    if              <              \n",
    "#        lowest = persons[i]\n",
    "#                  = i\n",
    "#print(     + 1)"
   ]
  },
  {
   "cell_type": "code",
   "execution_count": 12,
   "id": "5a47d49a-6c2c-41c4-a4b5-e365156ce976",
   "metadata": {},
   "outputs": [
    {
     "data": {
      "text/plain": [
       "['8', '0', '7']"
      ]
     },
     "execution_count": 12,
     "metadata": {},
     "output_type": "execute_result"
    }
   ],
   "source": [
    "persons"
   ]
  },
  {
   "cell_type": "code",
   "execution_count": null,
   "id": "bd44c42f-3123-4cab-8ea8-fbaddc26ad71",
   "metadata": {},
   "outputs": [],
   "source": []
  }
 ],
 "metadata": {
  "kernelspec": {
   "display_name": "Python 3",
   "language": "python",
   "name": "python3"
  },
  "language_info": {
   "codemirror_mode": {
    "name": "ipython",
    "version": 3
   },
   "file_extension": ".py",
   "mimetype": "text/x-python",
   "name": "python",
   "nbconvert_exporter": "python",
   "pygments_lexer": "ipython3",
   "version": "3.7.8"
  }
 },
 "nbformat": 4,
 "nbformat_minor": 5
}
