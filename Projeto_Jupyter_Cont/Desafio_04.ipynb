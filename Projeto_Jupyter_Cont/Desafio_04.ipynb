{
 "cells": [
  {
   "cell_type": "code",
   "execution_count": 2,
   "id": "19fa143c-0b0f-4c0c-94dd-e8f0c141bb2c",
   "metadata": {},
   "outputs": [
    {
     "name": "stdin",
     "output_type": "stream",
     "text": [
      " 18\n"
     ]
    },
    {
     "name": "stdout",
     "output_type": "stream",
     "text": [
      "0 1 1 2 3 5 8 13 21 34 55 89 144 233 377 610 987 1597\n"
     ]
    }
   ],
   "source": [
    "n = int(input())\n",
    "\n",
    "fib = [     ]\n",
    "\n",
    "n = n - 1\n",
    "\n",
    "if n > 0 and n < 46:\n",
    "    for i in range(2):\n",
    "        fib.append(i)\n",
    "    for j in range(1, n):\n",
    "        fib.append(fib[j] + (fib[j-1]))\n",
    "\n",
    "fib_str = ' '.join(map(str, fib))\n",
    "\n",
    "print(fib_str)"
   ]
  },
  {
   "cell_type": "code",
   "execution_count": 3,
   "id": "27aca7b8-0827-4dac-8976-478a35cd59e6",
   "metadata": {},
   "outputs": [
    {
     "name": "stdin",
     "output_type": "stream",
     "text": [
      " 21\n"
     ]
    },
    {
     "name": "stdout",
     "output_type": "stream",
     "text": [
      "2\n",
      "4\n",
      "6\n",
      "8\n",
      "10\n",
      "12\n",
      "14\n",
      "16\n",
      "18\n",
      "20\n"
     ]
    }
   ],
   "source": [
    "N = int(input())\n",
    "\n",
    "N = N + 1\n",
    "\n",
    "for i in range(1, N):\n",
    "    k = i % 2\n",
    "    if k == 0:\n",
    "        print(i)"
   ]
  },
  {
   "cell_type": "code",
   "execution_count": 28,
   "id": "fdd8b7f1-ca1a-4021-860b-0c3cc8c6f16c",
   "metadata": {},
   "outputs": [
    {
     "name": "stdin",
     "output_type": "stream",
     "text": [
      " 3\n",
      " 8 0 7\n"
     ]
    },
    {
     "name": "stdout",
     "output_type": "stream",
     "text": [
      "2\n"
     ]
    }
   ],
   "source": [
    "N = int(input())\n",
    "T = input()\n",
    "P = list(T)\n",
    "\n",
    "if N == 0 or N == 1:\n",
    "    lowest = 1\n",
    "elif N > 1:\n",
    "    lowest = N - 1\n",
    "\n",
    "print(lowest)"
   ]
  }
 ],
 "metadata": {
  "kernelspec": {
   "display_name": "Python 3",
   "language": "python",
   "name": "python3"
  },
  "language_info": {
   "codemirror_mode": {
    "name": "ipython",
    "version": 3
   },
   "file_extension": ".py",
   "mimetype": "text/x-python",
   "name": "python",
   "nbconvert_exporter": "python",
   "pygments_lexer": "ipython3",
   "version": "3.7.8"
  }
 },
 "nbformat": 4,
 "nbformat_minor": 5
}
